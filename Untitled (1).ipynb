{
 "cells": [
  {
   "cell_type": "code",
   "execution_count": null,
   "id": "56a62494-c95a-448d-a536-9b897b351f27",
   "metadata": {},
   "outputs": [],
   "source": [
    "Q.1 create one variable containing followind type of data:\n",
    "    (1) string\n",
    "    (2) list\n",
    "    (3) float\n",
    "    (4) tuple"
   ]
  },
  {
   "cell_type": "code",
   "execution_count": 1,
   "id": "f57d4ab9-c23c-4918-b8db-02bf8756ef47",
   "metadata": {},
   "outputs": [],
   "source": [
    "a=['hello world',15.6,85.56,(8,54,65)]"
   ]
  },
  {
   "cell_type": "code",
   "execution_count": null,
   "id": "25060181-497c-415f-8e56-b7cdbdbf97ce",
   "metadata": {},
   "outputs": [],
   "source": [
    "Q.2 Given are some following variables containing data:"
   ]
  },
  {
   "cell_type": "code",
   "execution_count": 3,
   "id": "b9f79e4d-ad21-4e28-aeb2-f2c85d5a2d3a",
   "metadata": {},
   "outputs": [
    {
     "data": {
      "text/plain": [
       "str"
      ]
     },
     "execution_count": 3,
     "metadata": {},
     "output_type": "execute_result"
    }
   ],
   "source": [
    "var1=''\n",
    "type(var1)"
   ]
  },
  {
   "cell_type": "code",
   "execution_count": 5,
   "id": "7cd39479-76f1-4bb8-8d45-1f3ac333646d",
   "metadata": {},
   "outputs": [
    {
     "data": {
      "text/plain": [
       "str"
      ]
     },
     "execution_count": 5,
     "metadata": {},
     "output_type": "execute_result"
    }
   ],
   "source": [
    "var2='[DS,ML,Python]'\n",
    "type(var2)"
   ]
  },
  {
   "cell_type": "code",
   "execution_count": 6,
   "id": "171d83a8-4c59-471b-8cc3-180b9ea0bbe2",
   "metadata": {},
   "outputs": [
    {
     "data": {
      "text/plain": [
       "list"
      ]
     },
     "execution_count": 6,
     "metadata": {},
     "output_type": "execute_result"
    }
   ],
   "source": [
    "var3=['DS','ML','python']\n",
    "type(var3)"
   ]
  },
  {
   "cell_type": "code",
   "execution_count": 7,
   "id": "dc074622-1b2b-475b-8ec2-00d5e82d309b",
   "metadata": {},
   "outputs": [
    {
     "data": {
      "text/plain": [
       "int"
      ]
     },
     "execution_count": 7,
     "metadata": {},
     "output_type": "execute_result"
    }
   ],
   "source": [
    "var4=1\n",
    "type(var4)"
   ]
  },
  {
   "cell_type": "code",
   "execution_count": null,
   "id": "f3e04e2b-3a32-43d7-8ac9-e85ff840183f",
   "metadata": {},
   "outputs": [],
   "source": [
    "Q.3 explain the use of the following operators using an examples:"
   ]
  },
  {
   "cell_type": "code",
   "execution_count": null,
   "id": "17f28bb0-997c-4521-a0cc-894a3f1841b0",
   "metadata": {},
   "outputs": [],
   "source": [
    " (1) / : The '/' operator in Python is used for division operations"
   ]
  },
  {
   "cell_type": "code",
   "execution_count": 8,
   "id": "fb52ac3e-c83a-4242-8c49-3c106c489549",
   "metadata": {},
   "outputs": [
    {
     "data": {
      "text/plain": [
       "2.0"
      ]
     },
     "execution_count": 8,
     "metadata": {},
     "output_type": "execute_result"
    }
   ],
   "source": [
    "b=8\n",
    "a=4\n",
    "b/a"
   ]
  },
  {
   "cell_type": "code",
   "execution_count": null,
   "id": "9f6421b5-b06e-46d4-b9b7-cbb50e2d1d8b",
   "metadata": {},
   "outputs": [],
   "source": [
    "(2) % : The % operator in Python is called the modulo operator"
   ]
  },
  {
   "cell_type": "code",
   "execution_count": 9,
   "id": "20893dd4-c848-4769-9d31-924ac2ca82b6",
   "metadata": {},
   "outputs": [
    {
     "data": {
      "text/plain": [
       "0"
      ]
     },
     "execution_count": 9,
     "metadata": {},
     "output_type": "execute_result"
    }
   ],
   "source": [
    "b=8\n",
    "a=4\n",
    "b%a"
   ]
  },
  {
   "cell_type": "code",
   "execution_count": null,
   "id": "326b53ca-b4fb-4dd5-9a27-62d2c900aa38",
   "metadata": {},
   "outputs": [],
   "source": [
    "(3) // : The // operator in Python is known as the floor division operator"
   ]
  },
  {
   "cell_type": "code",
   "execution_count": 10,
   "id": "4371dfad-bdba-45f3-b05f-5ed766d30020",
   "metadata": {},
   "outputs": [
    {
     "data": {
      "text/plain": [
       "2"
      ]
     },
     "execution_count": 10,
     "metadata": {},
     "output_type": "execute_result"
    }
   ],
   "source": [
    "b=20\n",
    "a=10\n",
    "b//a"
   ]
  },
  {
   "cell_type": "code",
   "execution_count": null,
   "id": "45961558-7420-4db1-af9d-9f40c6090146",
   "metadata": {},
   "outputs": [],
   "source": [
    "(4) ** : the ** operator is used to raise a number to a power."
   ]
  },
  {
   "cell_type": "code",
   "execution_count": 11,
   "id": "7a980bd4-c1eb-4fc8-b909-b0f8e3c1e50a",
   "metadata": {},
   "outputs": [
    {
     "data": {
      "text/plain": [
       "951166013805414055936"
      ]
     },
     "execution_count": 11,
     "metadata": {},
     "output_type": "execute_result"
    }
   ],
   "source": [
    "d=56\n",
    "h=12\n",
    "d**h"
   ]
  },
  {
   "cell_type": "code",
   "execution_count": null,
   "id": "fe6c6922-44e9-4af1-9353-5dca9c7bc2df",
   "metadata": {},
   "outputs": [],
   "source": [
    "Q.4 Create a list of length 10 of your choice containing multiple types of data. Using for loop print the\n",
    "    element and its data type."
   ]
  },
  {
   "cell_type": "code",
   "execution_count": 15,
   "id": "cc397431-9f5d-4687-98cd-dc54fa8ac3d2",
   "metadata": {},
   "outputs": [],
   "source": [
    "s=[5,6,8,25.5,\"sunny\",89,58,\"hello world\",(8),10]"
   ]
  },
  {
   "cell_type": "code",
   "execution_count": 17,
   "id": "9cc4b72e-d764-4bd1-92f3-99fee6409786",
   "metadata": {},
   "outputs": [
    {
     "name": "stdout",
     "output_type": "stream",
     "text": [
      "<class 'int'>\n",
      "<class 'int'>\n",
      "<class 'int'>\n",
      "<class 'float'>\n",
      "<class 'str'>\n",
      "<class 'int'>\n",
      "<class 'int'>\n",
      "<class 'str'>\n",
      "<class 'int'>\n",
      "<class 'int'>\n"
     ]
    }
   ],
   "source": [
    "for i in s:\n",
    "    print(type(i))"
   ]
  },
  {
   "cell_type": "code",
   "execution_count": null,
   "id": "46334bb3-e91f-4009-8616-3873fe129aa5",
   "metadata": {},
   "outputs": [],
   "source": [
    "Q.6  Create a list containing 25 int type data. Using for loop and if-else condition print if the element is\n",
    "divisible by 3 or not."
   ]
  },
  {
   "cell_type": "code",
   "execution_count": 15,
   "id": "6129bbe3-7524-451e-818b-b655766c4d0e",
   "metadata": {},
   "outputs": [
    {
     "name": "stdout",
     "output_type": "stream",
     "text": [
      "2 is not divisible by 3\n",
      "3 is divisible by 3\n",
      "7 is not divisible by 3\n",
      "9 is divisible by 3\n",
      "12 is divisible by 3\n",
      "18 is divisible by 3\n",
      "21 is divisible by 3\n",
      "25 is not divisible by 3\n",
      "27 is divisible by 3\n",
      "30 is divisible by 3\n",
      "33 is divisible by 3\n",
      "36 is divisible by 3\n",
      "40 is not divisible by 3\n",
      "42 is divisible by 3\n",
      "45 is divisible by 3\n",
      "48 is divisible by 3\n",
      "50 is not divisible by 3\n",
      "51 is divisible by 3\n",
      "54 is divisible by 3\n",
      "57 is divisible by 3\n",
      "60 is divisible by 3\n",
      "63 is divisible by 3\n",
      "66 is divisible by 3\n",
      "69 is divisible by 3\n",
      "72 is divisible by 3\n"
     ]
    }
   ],
   "source": [
    "l= [2, 3, 7, 9, 12, 18, 21, 25, 27, 30, 33, 36, 40, 42, 45, 48, 50, 51, 54, 57, 60, 63, 66, 69, 72]\n",
    "\n",
    "for i in l:\n",
    "    if i % 3 == 0:\n",
    "        print(f\"{i} is divisible by 3\")\n",
    "    else:\n",
    "        print(f\"{i} is not divisible by 3\")"
   ]
  },
  {
   "cell_type": "code",
   "execution_count": null,
   "id": "66bc1164-986f-4b05-b443-e0c5980435c3",
   "metadata": {},
   "outputs": [],
   "source": [
    "Q5. Using a while loop, verify if the number A is purely divisible by number B and if so then how many\n",
    "times it can be divisible"
   ]
  },
  {
   "cell_type": "code",
   "execution_count": 17,
   "id": "3522bed2-90a5-4cff-be46-c541e75148b4",
   "metadata": {},
   "outputs": [
    {
     "name": "stdout",
     "output_type": "stream",
     "text": [
      "6 is divisible by 5 2 times.\n"
     ]
    }
   ],
   "source": [
    "a = 150\n",
    "b = 5\n",
    "count = 0\n",
    "while a % b == 0:\n",
    "    count +=1\n",
    "    a = a//b\n",
    "if count > 0:\n",
    "    print(f\"{a} is divisible by {b} {count} times.\")\n",
    "else:\n",
    "    print(f\"{a} is not divisible by {b}.\")"
   ]
  },
  {
   "cell_type": "code",
   "execution_count": null,
   "id": "68fb8e70-48b7-4502-9ca7-4560ca679312",
   "metadata": {},
   "outputs": [],
   "source": [
    "Q7.What do you understand about mutable and immutable data types? Give examples for both showing\n",
    "this property.\n",
    "\n",
    "Mutable:mutable  objects are objects whose values can be changed after they are created.\n",
    "Mutable objects can be modified in place without creating a new object.mutable objects in Python supports lists and sets. \n",
    "\n",
    "Immutable: immutable objects are objects that cannot be modified after they are created.\n",
    "Any attempt to change the value of an immutable object will result in the creation of a new object with the new value."
   ]
  },
  {
   "cell_type": "code",
   "execution_count": 18,
   "id": "536ba165-9b3e-429f-9108-da6f67a410fe",
   "metadata": {},
   "outputs": [
    {
     "data": {
      "text/plain": [
       "list"
      ]
     },
     "execution_count": 18,
     "metadata": {},
     "output_type": "execute_result"
    }
   ],
   "source": [
    " S= [2,3,4,5,6,\"sudh\" , 3+7j , True , 34.56]\n",
    "type(l)"
   ]
  },
  {
   "cell_type": "code",
   "execution_count": null,
   "id": "052c6d69-d9bd-4545-8c2e-644ea7b8156d",
   "metadata": {},
   "outputs": [],
   "source": [
    "list is mutable object"
   ]
  },
  {
   "cell_type": "code",
   "execution_count": 22,
   "id": "8ff7726c-8857-4864-a4a5-6d3eb1d08392",
   "metadata": {},
   "outputs": [
    {
     "data": {
      "text/plain": [
       "str"
      ]
     },
     "execution_count": 22,
     "metadata": {},
     "output_type": "execute_result"
    }
   ],
   "source": [
    "p='sunny'\n",
    "type(p)"
   ]
  },
  {
   "cell_type": "code",
   "execution_count": null,
   "id": "0969db57-c094-4dba-994b-1a2fb292bc38",
   "metadata": {},
   "outputs": [],
   "source": [
    "string is immutable object"
   ]
  }
 ],
 "metadata": {
  "kernelspec": {
   "display_name": "Python 3 (ipykernel)",
   "language": "python",
   "name": "python3"
  },
  "language_info": {
   "codemirror_mode": {
    "name": "ipython",
    "version": 3
   },
   "file_extension": ".py",
   "mimetype": "text/x-python",
   "name": "python",
   "nbconvert_exporter": "python",
   "pygments_lexer": "ipython3",
   "version": "3.10.8"
  }
 },
 "nbformat": 4,
 "nbformat_minor": 5
}
